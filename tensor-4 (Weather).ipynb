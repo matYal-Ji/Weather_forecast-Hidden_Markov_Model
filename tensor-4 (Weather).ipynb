{
 "cells": [
  {
   "cell_type": "markdown",
   "id": "4b71c0c2",
   "metadata": {},
   "source": [
    "# Weather Model"
   ]
  },
  {
   "cell_type": "markdown",
   "id": "bf777f15",
   "metadata": {},
   "source": [
    "### Clustring :-    \n",
    "      \n",
    "    Clustring is a ML technique that involves the grouping of data points"
   ]
  },
  {
   "cell_type": "markdown",
   "id": "f1a11695",
   "metadata": {},
   "source": [
    "#### Basic Algo for K-Means:\n",
    "\n",
    "<li>Randomly pick K points to place K centroids\n",
    "<li>Assign all of the data points to the centroids by distance. The closest centroid to a point is the one it is assinged to.\n",
    "<li>Average all the points belonging to each centroid to find the middle of those clusters(center of mass). Place the corresponding centroids into that position.\n",
    "<li>Reassign every point once again to the closest centroid.\n",
    "<li>Repeat steps 3-4 until no point changes which centroid it belongs to.\n",
    "    \n",
    "<p>Check online for K-mean Clustring & clustring"
   ]
  },
  {
   "cell_type": "markdown",
   "id": "472f4bc9",
   "metadata": {},
   "source": [
    "### Hidden Markov Models :-\n",
    "\n",
    "<p>The Hidden Markov Model is a finite set of states, each of which is associated with a (generally multidimensional) probability distribution.\n",
    "<p>Transitions among the states are governed by a set of probablities called transitions probabilities.\n",
    "<p>A hidden markov model works with probabilities to predict future events or states. "
   ]
  },
  {
   "cell_type": "code",
   "execution_count": 4,
   "id": "9bbf2be8",
   "metadata": {},
   "outputs": [],
   "source": [
    "import tensorflow_probability as tfp #using a different module from tensorflow this time\n",
    "import tensorflow as tf"
   ]
  },
  {
   "cell_type": "code",
   "execution_count": 6,
   "id": "0182cef4",
   "metadata": {},
   "outputs": [],
   "source": [
    "tfd = tfp.distributions   # making a shortcut for later\n",
    "initial_distribution = tfd.Categorical(probs=[0.8, 0.2])  # The first day in sequence has 80% chance of being cold\n",
    "transition_distribution = tfd.Categorical(probs=[[0.7, 0.3],    # A cold day has 30% chance of being followed by a hot day\n",
    "                                                 [0.2, 0.8]])   # A hot day has 20% chance of being followed by a cold day\n",
    "Observational_distribution = tfd.Normal(loc=[0., 15.], scale=[5., 10.])   \n",
    "# On each day the temp. is normally distributed with mean and std dev 0&5 on a cold day and mean and std dev 15&10 on a hot day.\n",
    "\n",
    "# the loc argument shows the mean and the scale is the standard deviation"
   ]
  },
  {
   "cell_type": "code",
   "execution_count": 10,
   "id": "f574f8c0",
   "metadata": {},
   "outputs": [],
   "source": [
    "model = tfd.HiddenMarkovModel(\n",
    "    initial_distribution =initial_distribution, \n",
    "    transition_distribution= transition_distribution, \n",
    "    observation_distribution = Observational_distribution, \n",
    "    num_steps = 7)"
   ]
  },
  {
   "cell_type": "markdown",
   "id": "4f69866b",
   "metadata": {},
   "source": [
    "num_steps represents the number of days"
   ]
  },
  {
   "cell_type": "code",
   "execution_count": 11,
   "id": "bc40a0c3",
   "metadata": {},
   "outputs": [
    {
     "name": "stdout",
     "output_type": "stream",
     "text": [
      "[2.9999998 5.9999995 7.4999995 8.25      8.625     8.812501  8.90625  ]\n"
     ]
    }
   ],
   "source": [
    "mean = model.mean()\n",
    "#due to the way TensorFlow works on a lower level we need to evaluate part of the graph\n",
    "#from within a session to see the value of this tensor\n",
    "\n",
    "#in the new version of tensorflow we need to use tf.compat.v1.Session() rather than just tf.Session\n",
    "with tf.compat.v1.Session() as sess:\n",
    "    print(mean.numpy())"
   ]
  },
  {
   "cell_type": "code",
   "execution_count": null,
   "id": "279df04b",
   "metadata": {},
   "outputs": [],
   "source": []
  }
 ],
 "metadata": {
  "kernelspec": {
   "display_name": "Python 3",
   "language": "python",
   "name": "python3"
  },
  "language_info": {
   "codemirror_mode": {
    "name": "ipython",
    "version": 3
   },
   "file_extension": ".py",
   "mimetype": "text/x-python",
   "name": "python",
   "nbconvert_exporter": "python",
   "pygments_lexer": "ipython3",
   "version": "3.8.10"
  }
 },
 "nbformat": 4,
 "nbformat_minor": 5
}
